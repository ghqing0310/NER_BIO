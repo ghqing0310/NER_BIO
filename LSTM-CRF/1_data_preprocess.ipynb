{
 "cells": [
  {
   "cell_type": "markdown",
   "metadata": {},
   "source": [
    "### 1. NCRFpp 数据格式 \n",
    "#### github： https://github.com/jiesutd/NCRFpp  \n",
    "###  1.1 NCRF++ supports both BIO and BIOES(BMES) tag scheme.   \n",
    "###  1.2 You can refer the data format in sample_data."
   ]
  },
  {
   "cell_type": "code",
   "execution_count": 1,
   "metadata": {
    "scrolled": false
   },
   "outputs": [
    {
     "name": "stdout",
     "output_type": "stream",
     "text": [
      "dev.bmes\t raw.bmes\t  test.bmes\t    train.bmes\r\n",
      "dev.cappos.bmes  sample.word.emb  test.cappos.bmes  train.cappos.bmes\r\n"
     ]
    }
   ],
   "source": [
    "!ls ./NCRFpp/sample_data/"
   ]
  },
  {
   "cell_type": "code",
   "execution_count": 2,
   "metadata": {},
   "outputs": [
    {
     "name": "stdout",
     "output_type": "stream",
     "text": [
      "     1\tCRICKET O\r\n",
      "     2\t- O\r\n",
      "     3\tLEICESTERSHIRE S-ORG\r\n",
      "     4\tTAKE O\r\n",
      "     5\tOVER O\r\n",
      "     6\tAT O\r\n",
      "     7\tTOP O\r\n",
      "     8\tAFTER O\r\n",
      "     9\tINNINGS O\r\n",
      "    10\tVICTORY O\r\n",
      "    11\t. O\r\n",
      "    12\t\r\n",
      "    13\tLONDON S-LOC\r\n",
      "    14\t1996-08-30 O\r\n",
      "    15\t\r\n",
      "    16\tWest B-MISC\r\n",
      "    17\tIndian E-MISC\r\n",
      "    18\tall-rounder O\r\n",
      "    19\tPhil B-PER\r\n",
      "    20\tSimmons E-PER\r\n",
      "    21\ttook O\r\n",
      "    22\tfour O\r\n",
      "    23\tfor O\r\n",
      "    24\t38 O\r\n",
      "    25\ton O\r\n",
      "    26\tFriday O\r\n",
      "    27\tas O\r\n",
      "    28\tLeicestershire S-ORG\r\n",
      "    29\tbeat O\r\n",
      "    30\tSomerset S-ORG\r\n"
     ]
    }
   ],
   "source": [
    "!cat -n ./NCRFpp/sample_data/dev.bmes | head -n 30 "
   ]
  },
  {
   "cell_type": "code",
   "execution_count": 3,
   "metadata": {},
   "outputs": [
    {
     "name": "stdout",
     "output_type": "stream",
     "text": [
      "     1\tCRICKET [Cap]1 [POS]NNP O\r\n",
      "     2\t- [Cap]0 [POS]: O\r\n",
      "     3\tLEICESTERSHIRE [Cap]1 [POS]NNP S-ORG\r\n",
      "     4\tTAKE [Cap]1 [POS]NNP O\r\n",
      "     5\tOVER [Cap]1 [POS]IN O\r\n",
      "     6\tAT [Cap]1 [POS]NNP O\r\n",
      "     7\tTOP [Cap]1 [POS]NNP O\r\n",
      "     8\tAFTER [Cap]1 [POS]NNP O\r\n",
      "     9\tINNINGS [Cap]1 [POS]NNP O\r\n",
      "    10\tVICTORY [Cap]1 [POS]NN O\r\n",
      "    11\t. [Cap]0 [POS]. O\r\n",
      "    12\t\r\n",
      "    13\tLONDON [Cap]1 [POS]NNP S-LOC\r\n",
      "    14\t1996-08-30 [Cap]0 [POS]CD O\r\n",
      "    15\t\r\n",
      "    16\tWest [Cap]1 [POS]NNP B-MISC\r\n",
      "    17\tIndian [Cap]1 [POS]NNP E-MISC\r\n",
      "    18\tall-rounder [Cap]0 [POS]NN O\r\n",
      "    19\tPhil [Cap]1 [POS]NNP B-PER\r\n",
      "    20\tSimmons [Cap]1 [POS]NNP E-PER\r\n",
      "cat: 写入错误: 断开的管道\r\n"
     ]
    }
   ],
   "source": [
    "!cat -n ./NCRFpp/sample_data/dev.cappos.bmes | head -n 20 "
   ]
  },
  {
   "cell_type": "markdown",
   "metadata": {},
   "source": [
    "#### ==========================================================================================\n",
    "#### 对比dev.bmes与dev.cappos.bmes的不同，可看出相关特征如何加入数据中\n",
    "#### 参考sample_data里的格式将CoNLL-2003转化为NCRFpp支持的格式。   \n",
    "#### 这里我们不处理特征与POS等，只用字符本身\n",
    "#### 下面下载CoNLL-2003数据，进行转化"
   ]
  },
  {
   "cell_type": "code",
   "execution_count": 4,
   "metadata": {},
   "outputs": [],
   "source": [
    "import os\n",
    "RAW_DATA_PATH = './NCRFpp/data/CoNLL-2003'\n",
    "SIMPLE_DATA_PATH = './NCRFpp/data/conll_2003_simple/'"
   ]
  },
  {
   "cell_type": "code",
   "execution_count": 5,
   "metadata": {},
   "outputs": [
    {
     "name": "stdout",
     "output_type": "stream",
     "text": [
      "     1\tCRICKET NNP B-NP O\r",
      "\r\n",
      "     2\t- : O O\r",
      "\r\n",
      "     3\tLEICESTERSHIRE NNP B-NP B-ORG\r",
      "\r\n",
      "     4\tTAKE NNP I-NP O\r",
      "\r\n",
      "     5\tOVER IN B-PP O\r",
      "\r\n",
      "     6\tAT NNP B-NP O\r",
      "\r\n",
      "     7\tTOP NNP I-NP O\r",
      "\r\n",
      "     8\tAFTER NNP I-NP O\r",
      "\r\n",
      "     9\tINNINGS NNP I-NP O\r",
      "\r\n",
      "    10\tVICTORY NN I-NP O\r",
      "\r\n",
      "    11\t. . O O\r",
      "\r\n",
      "    12\t\r",
      "\r\n",
      "    13\tLONDON NNP B-NP B-LOC\r",
      "\r\n",
      "    14\t1996-08-30 CD I-NP O\r",
      "\r\n",
      "    15\t\r",
      "\r\n",
      "    16\tWest NNP B-NP B-MISC\r",
      "\r\n",
      "    17\tIndian NNP I-NP I-MISC\r",
      "\r\n",
      "    18\tall-rounder NN I-NP O\r",
      "\r\n",
      "    19\tPhil NNP I-NP B-PER\r",
      "\r\n",
      "    20\tSimmons NNP I-NP I-PER\r",
      "\r\n",
      "cat: 写入错误: 断开的管道\r\n"
     ]
    }
   ],
   "source": [
    "!cat -n ./NCRFpp/data/CoNLL-2003/dev.txt | head -n 20 "
   ]
  },
  {
   "cell_type": "code",
   "execution_count": 6,
   "metadata": {},
   "outputs": [
    {
     "name": "stdout",
     "output_type": "stream",
     "text": [
      "./NCRFpp/data/CoNLL-2003/train.txt ./NCRFpp/data/conll_2003_simple/train.bmes\n",
      "./NCRFpp/data/CoNLL-2003/dev.txt ./NCRFpp/data/conll_2003_simple/dev.bmes\n",
      "./NCRFpp/data/CoNLL-2003/test.txt ./NCRFpp/data/conll_2003_simple/test.bmes\n"
     ]
    }
   ],
   "source": [
    "for file_type in ['train', 'dev', 'test']:\n",
    "    raw_file_path = os.path.join(RAW_DATA_PATH, file_type + '.txt')\n",
    "    out_file_path = os.path.join(SIMPLE_DATA_PATH, file_type + '.bmes')\n",
    "    content = ''\n",
    "    with open(raw_file_path, 'r') as f:\n",
    "        lines = []\n",
    "        for line in f.readlines():\n",
    "            line = line.strip()\n",
    "            if len(line) == 0:\n",
    "                lines.append(line)\n",
    "            else:\n",
    "                temp = line.split(' ')\n",
    "                lines.append(' '.join([temp[0], temp[-1]]))\n",
    "        content = '\\n'.join(lines)\n",
    "    with open(out_file_path, 'w') as f:\n",
    "        f.write(content)   \n",
    "    print(raw_file_path, out_file_path)"
   ]
  },
  {
   "cell_type": "code",
   "execution_count": 7,
   "metadata": {},
   "outputs": [
    {
     "name": "stdout",
     "output_type": "stream",
     "text": [
      "     1\tCRICKET O\r\n",
      "     2\t- O\r\n",
      "     3\tLEICESTERSHIRE B-ORG\r\n",
      "     4\tTAKE O\r\n",
      "     5\tOVER O\r\n",
      "     6\tAT O\r\n",
      "     7\tTOP O\r\n",
      "     8\tAFTER O\r\n",
      "     9\tINNINGS O\r\n",
      "    10\tVICTORY O\r\n",
      "    11\t. O\r\n",
      "    12\t\r\n",
      "    13\tLONDON B-LOC\r\n",
      "    14\t1996-08-30 O\r\n",
      "    15\t\r\n",
      "    16\tWest B-MISC\r\n",
      "    17\tIndian I-MISC\r\n",
      "    18\tall-rounder O\r\n",
      "    19\tPhil B-PER\r\n",
      "    20\tSimmons I-PER\r\n",
      "cat: 写入错误: 断开的管道\r\n"
     ]
    }
   ],
   "source": [
    "!cat -n ./NCRFpp/data/conll_2003_simple/dev.bmes | head -n 20 "
   ]
  },
  {
   "cell_type": "markdown",
   "metadata": {},
   "source": [
    "### 2. Pretrained Word Embedding\n",
    "#### 2.1 查看NCRFpp支持的Word Embedding格式\n",
    "#### 2.2 download page: https://nlp.stanford.edu/projects/glove/"
   ]
  },
  {
   "cell_type": "code",
   "execution_count": 8,
   "metadata": {},
   "outputs": [
    {
     "name": "stdout",
     "output_type": "stream",
     "text": [
      "     1\ta.m. -1.302770 0.064994 -1.245060 0.566558 0.166078 -0.953943 -0.463662 1.229050 -0.704656 0.116769 0.449418 -0.392847 0.874997 1.221280 -1.244640 -1.171210 0.230252 -1.088220 -1.876270 0.999766 0.622124 -1.146640 -0.688396 0.721865 0.137172 -0.457263 1.760340 -0.153124 2.074960 -0.456770 -1.666390 -1.272490 1.907500 -1.373060 -0.725531 0.460744 0.144122 0.449405 -0.921993 -1.029820 -1.514580 -0.098113 -1.088020 0.001922 0.133336 -0.354358 0.655446 0.323784 -0.886775 0.570646\r\n",
      "     2\ta.p. -0.912641 1.165760 1.453660 -0.826334 -1.623820 -0.693961 -0.655292 2.320630 -1.010180 -0.713296 -0.957502 0.635934 0.970627 -0.812354 -1.527500 -1.266420 0.028273 -0.283309 -0.969010 -0.524317 -0.589634 0.719126 -0.438506 -0.060021 -1.034950 0.263006 -2.712150 0.812875 -1.196220 -0.802563 0.185079 -0.993165 1.117760 -0.869621 0.422014 0.487412 0.613952 -1.795890 -0.668284 0.404798 -0.515953 -0.536194 1.106810 -0.171058 0.074801 0.030079 1.641530 -0.245652 -0.895246 0.379156\r\n",
      "     3\ta310-300s 2.042630 -1.010090 -2.007950 0.331486 0.945333 0.014123 0.998210 1.439450 2.854490 4.543540 -0.484266 -2.642520 -0.704718 1.056890 -2.669520 -0.276281 0.841104 0.555255 -2.277840 -1.296910 -0.101180 -0.189059 -0.011775 0.185864 0.012303 0.828070 0.276040 -0.739012 0.201864 -0.450116 0.484448 -2.272250 -1.292540 -0.829929 -0.754226 0.665113 0.401993 1.151280 -0.999673 2.324060 2.544050 -0.565905 2.073930 -0.883892 -0.466327 0.526004 3.633950 -0.693183 0.153079 -0.380034\r\n",
      "cat: 写入错误: 断开的管道\r\n"
     ]
    }
   ],
   "source": [
    "!cat -n NCRFpp/sample_data/sample.word.emb | head -n 3"
   ]
  },
  {
   "cell_type": "code",
   "execution_count": 10,
   "metadata": {},
   "outputs": [
    {
     "name": "stdout",
     "output_type": "stream",
     "text": [
      "--2020-06-26 05:26:30--  http://downloads.cs.stanford.edu/nlp/data/glove.6B.zip\n",
      "正在解析主机 downloads.cs.stanford.edu (downloads.cs.stanford.edu)... 171.64.64.22\n",
      "正在连接 downloads.cs.stanford.edu (downloads.cs.stanford.edu)|171.64.64.22|:80... 已连接。\n",
      "已发出 HTTP 请求，正在等待回应... 200 OK\n",
      "长度：862182613 (822M) [application/zip]\n",
      "正在保存至: “glove.6B.zip”\n",
      "\n",
      " 0% [                                       ] 258,928      207KB/s             ^C\n"
     ]
    }
   ],
   "source": [
    "# 下载glove.6B.zip\n",
    "!wget http://downloads.cs.stanford.edu/nlp/data/glove.6B.zip"
   ]
  },
  {
   "cell_type": "code",
   "execution_count": 9,
   "metadata": {
    "scrolled": false
   },
   "outputs": [
    {
     "name": "stdout",
     "output_type": "stream",
     "text": [
      "     1\tthe -0.038194 -0.24487 0.72812 -0.39961 0.083172 0.043953 -0.39141 0.3344 -0.57545 0.087459 0.28787 -0.06731 0.30906 -0.26384 -0.13231 -0.20757 0.33395 -0.33848 -0.31743 -0.48336 0.1464 -0.37304 0.34577 0.052041 0.44946 -0.46971 0.02628 -0.54155 -0.15518 -0.14107 -0.039722 0.28277 0.14393 0.23464 -0.31021 0.086173 0.20397 0.52624 0.17164 -0.082378 -0.71787 -0.41531 0.20335 -0.12763 0.41367 0.55187 0.57908 -0.33477 -0.36559 -0.54857 -0.062892 0.26584 0.30205 0.99775 -0.80481 -3.0243 0.01254 -0.36942 2.2167 0.72201 -0.24978 0.92136 0.034514 0.46745 1.1079 -0.19358 -0.074575 0.23353 -0.052062 -0.22044 0.057162 -0.15806 -0.30798 -0.41625 0.37972 0.15006 -0.53212 -0.2055 -1.2526 0.071624 0.70565 0.49744 -0.42063 0.26148 -1.538 -0.30223 -0.073438 -0.28312 0.37104 -0.25217 0.016215 -0.017099 -0.38984 0.87424 -0.72569 -0.51058 -0.52028 -0.1459 0.8278 0.27062\r\n",
      "     2\t, -0.10767 0.11053 0.59812 -0.54361 0.67396 0.10663 0.038867 0.35481 0.06351 -0.094189 0.15786 -0.81665 0.14172 0.21939 0.58505 -0.52158 0.22783 -0.16642 -0.68228 0.3587 0.42568 0.19021 0.91963 0.57555 0.46185 0.42363 -0.095399 -0.42749 -0.16567 -0.056842 -0.29595 0.26037 -0.26606 -0.070404 -0.27662 0.15821 0.69825 0.43081 0.27952 -0.45437 -0.33801 -0.58184 0.22364 -0.5778 -0.26862 -0.20425 0.56394 -0.58524 -0.14365 -0.64218 0.0054697 -0.35248 0.16162 1.1796 -0.47674 -2.7553 -0.1321 -0.047729 1.0655 1.1034 -0.2208 0.18669 0.13177 0.15117 0.7131 -0.35215 0.91348 0.61783 0.70992 0.23955 -0.14571 -0.37859 -0.045959 -0.47368 0.2385 0.20536 -0.18996 0.32507 -1.1112 -0.36341 0.98679 -0.084776 -0.54008 0.11726 -1.0194 -0.24424 0.12771 0.013884 0.080374 -0.35414 0.34951 -0.7226 0.37549 0.4441 -0.99059 0.61214 -0.35111 -0.83155 0.45293 0.082577\r\n",
      "     3\t. -0.33979 0.20941 0.46348 -0.64792 -0.38377 0.038034 0.17127 0.15978 0.46619 -0.019169 0.41479 -0.34349 0.26872 0.04464 0.42131 -0.41032 0.15459 0.022239 -0.64653 0.25256 0.043136 -0.19445 0.46516 0.45651 0.68588 0.091295 0.21875 -0.70351 0.16785 -0.35079 -0.12634 0.66384 -0.2582 0.036542 -0.13605 0.40253 0.14289 0.38132 -0.12283 -0.45886 -0.25282 -0.30432 -0.11215 -0.26182 -0.22482 -0.44554 0.2991 -0.85612 -0.14503 -0.49086 0.0082973 -0.17491 0.27524 1.4401 -0.21239 -2.8435 -0.27958 -0.45722 1.6386 0.78808 -0.55262 0.65 0.086426 0.39012 1.0632 -0.35379 0.48328 0.346 0.84174 0.098707 -0.24213 -0.27053 0.045287 -0.40147 0.11395 0.0062226 0.036673 0.018518 -1.0213 -0.20806 0.64072 -0.068763 -0.58635 0.33476 -1.1432 -0.1148 -0.25091 -0.45907 -0.096819 -0.17946 -0.063351 -0.67412 -0.068895 0.53604 -0.87773 0.31802 -0.39242 -0.23394 0.47298 -0.028803\r\n",
      "cat: 写入错误: 断开的管道\r\n"
     ]
    }
   ],
   "source": [
    "# 解压文件，将glove.6B.100d.txt移动到/data下\n",
    "!cat -n ./NCRFpp/data/glove.6B.100d.txt | head -n 3\n",
    "# NCRFpp/data/glove.6B.100d.txt可作为预训练词向量使用"
   ]
  }
 ],
 "metadata": {
  "kernelspec": {
   "display_name": "Python 3",
   "language": "python",
   "name": "python3"
  },
  "language_info": {
   "codemirror_mode": {
    "name": "ipython",
    "version": 3
   },
   "file_extension": ".py",
   "mimetype": "text/x-python",
   "name": "python",
   "nbconvert_exporter": "python",
   "pygments_lexer": "ipython3",
   "version": "3.7.4"
  }
 },
 "nbformat": 4,
 "nbformat_minor": 2
}
