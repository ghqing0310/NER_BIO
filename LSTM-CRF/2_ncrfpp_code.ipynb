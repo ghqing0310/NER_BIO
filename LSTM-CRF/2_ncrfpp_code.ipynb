{
 "cells": [
  {
   "cell_type": "markdown",
   "metadata": {},
   "source": [
    "# NCRFpp\n",
    "#### github: https://github.com/jiesutd/NCRFpp  \n",
    "### 1. Advantages\n",
    "#### 1.1 Fully configurable: all the neural model structures can be set with a configuration file.\n",
    "#### 1.2 State-of-the-art system performance: models build on NCRF++ can give comparable or better results compared with state-of-the-art models.\n",
    "#### 1.3 Flexible with features: user can define their own features and pretrained feature embeddings.\n",
    "#### 1.4 Fast running speed: NCRF++ utilizes fully batched operations, making the system efficient with the help of GPU (>1000sent/s for training and >2000sents/s for decoding).\n",
    "#### 1.5 N best output: NCRF++ support nbest decoding (with their probabilities).\n",
    "####   "
   ]
  },
  {
   "cell_type": "markdown",
   "metadata": {},
   "source": [
    "### 2. 代码主要结构：\n",
    "![title](sources/ncrfpp_code.png)"
   ]
  },
  {
   "cell_type": "markdown",
   "metadata": {},
   "source": [
    "### 3. 训练流程  \n",
    "#### 3.1 读取配置文件，确定训练数据与模型参数\n",
    "#### 3.2 进行字符级别embedding抽取\n",
    "#### 3.3 进行词级别embedding抽取\n",
    "#### 3.4 进行句子级别embedding抽取\n",
    "#### 3.5 构建任务对应网络结构\n",
    "#### 3.5 根据参数训练模型  \n",
    "#### 3.6 监控训练过程，查看模型效果\n",
    "#### 3.7 调整不同参数，更改配置文件，进行实验\n",
    "#### 3.8 对比实验结果"
   ]
  }
 ],
 "metadata": {
  "kernelspec": {
   "display_name": "Python 3",
   "language": "python",
   "name": "python3"
  },
  "language_info": {
   "codemirror_mode": {
    "name": "ipython",
    "version": 3
   },
   "file_extension": ".py",
   "mimetype": "text/x-python",
   "name": "python",
   "nbconvert_exporter": "python",
   "pygments_lexer": "ipython3",
   "version": "3.7.4"
  }
 },
 "nbformat": 4,
 "nbformat_minor": 2
}
